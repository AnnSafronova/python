{
 "cells": [
  {
   "cell_type": "code",
   "execution_count": 8,
   "id": "94d68585",
   "metadata": {},
   "outputs": [
    {
     "name": "stdout",
     "output_type": "stream",
     "text": [
      "05/2022\n",
      "27.05.2022\n"
     ]
    }
   ],
   "source": [
    "import calendar\n",
    "m, y = input().split('/')\n",
    "get_last_friday = calendar.monthcalendar(int(y), int(m))[-1][4]\n",
    "if not get_last_friday:\n",
    "    get_last_friday = calendar.monthcalendar(int(y), int(m))[-2][4]\n",
    "get_last_friday = str(get_last_friday)\n",
    "if len(get_last_friday) == 1:\n",
    "    get_last_friday = '0' + get_last_friday\n",
    "print(f'{get_last_friday}.{m}.{y}')\n"
   ]
  },
  {
   "cell_type": "code",
   "execution_count": null,
   "id": "09317e92",
   "metadata": {},
   "outputs": [],
   "source": []
  }
 ],
 "metadata": {
  "kernelspec": {
   "display_name": "Python 3 (ipykernel)",
   "language": "python",
   "name": "python3"
  },
  "language_info": {
   "codemirror_mode": {
    "name": "ipython",
    "version": 3
   },
   "file_extension": ".py",
   "mimetype": "text/x-python",
   "name": "python",
   "nbconvert_exporter": "python",
   "pygments_lexer": "ipython3",
   "version": "3.9.13"
  }
 },
 "nbformat": 4,
 "nbformat_minor": 5
}
