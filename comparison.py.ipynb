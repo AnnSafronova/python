{
 "cells": [
  {
   "cell_type": "code",
   "execution_count": 10,
   "id": "d5426aba",
   "metadata": {},
   "outputs": [
    {
     "name": "stdout",
     "output_type": "stream",
     "text": [
      "2<5\n",
      "True\n"
     ]
    }
   ],
   "source": [
    "import pandas as pd\n",
    "def compare(a):\n",
    "    b = a.split('<')\n",
    "    c = a.split('>')\n",
    "    if '<' in a:\n",
    "        print(int(b[0]) < int(b[1]))\n",
    "    else:\n",
    "        print(int(c[0]) > int(c[1]))\n",
    "\n",
    "a = input()\n",
    "compare(a)"
   ]
  },
  {
   "cell_type": "code",
   "execution_count": null,
   "id": "fdc59b59",
   "metadata": {},
   "outputs": [],
   "source": []
  },
  {
   "cell_type": "code",
   "execution_count": null,
   "id": "c64cb0f7",
   "metadata": {},
   "outputs": [],
   "source": []
  },
  {
   "cell_type": "code",
   "execution_count": null,
   "id": "eb99229f",
   "metadata": {},
   "outputs": [],
   "source": []
  }
 ],
 "metadata": {
  "kernelspec": {
   "display_name": "Python 3 (ipykernel)",
   "language": "python",
   "name": "python3"
  },
  "language_info": {
   "codemirror_mode": {
    "name": "ipython",
    "version": 3
   },
   "file_extension": ".py",
   "mimetype": "text/x-python",
   "name": "python",
   "nbconvert_exporter": "python",
   "pygments_lexer": "ipython3",
   "version": "3.9.13"
  }
 },
 "nbformat": 4,
 "nbformat_minor": 5
}
